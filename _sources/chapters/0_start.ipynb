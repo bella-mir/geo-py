{
 "cells": [
  {
   "cell_type": "markdown",
   "metadata": {},
   "source": [
    "# 0. Начало работы\n"
   ]
  },
  {
   "cell_type": "markdown",
   "metadata": {},
   "source": [
    "Если вы давно и много работаете с языком Python, то можете смело пропустить этот раздел. Здесь я коротко расскажу о некоторых рекмоенлдациях по работе с этим \"пособием\" в Visual Studio Code\n"
   ]
  }
 ],
 "metadata": {
  "language_info": {
   "name": "python"
  }
 },
 "nbformat": 4,
 "nbformat_minor": 2
}
