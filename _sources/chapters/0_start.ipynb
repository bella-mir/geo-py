{
 "cells": [
  {
   "cell_type": "markdown",
   "metadata": {},
   "source": [
    "# 0. Начало работы\n"
   ]
  },
  {
   "cell_type": "markdown",
   "metadata": {},
   "source": [
    "Здесь я коротко расскажу о том, как начать работать с Python для анализа пространственных данных - об одном их множества возможных вариантов: какой редактор кода использовать, как создать виртуальную среду и настроить хранение документов\n",
    "\n",
    "Если вы чем-то уже пользуетесь (например, запускаете Jupyter Notebook через Anakonda), этот раздел можно смело пропустить\n"
   ]
  },
  {
   "cell_type": "markdown",
   "metadata": {},
   "source": [
    "## Редактор Кода\n"
   ]
  },
  {
   "cell_type": "markdown",
   "metadata": {},
   "source": [
    "### Visual Studio Code\n"
   ]
  },
  {
   "cell_type": "markdown",
   "metadata": {},
   "source": [
    "<a href=\"https://code.visualstudio.com\" target=\"_blank\">Visual Studio Code (VS Code)</a> - это легкий и мощный текстовый редактор, разработанный компанией Microsoft. Он предназначен для работы с широким спектром языков программирования: JavaScript, Python, HTML/CSS, Java, C++.\n",
    "\n",
    "Я люблю VS Code за его универсальность, за большое количество расширений, два из которых нам точно пригодятся\n",
    "\n",
    "<img src=\"https://cdn.icon-icons.com/icons2/2107/PNG/512/file_type_vscode_icon_130084.png\" width=\"200\" height=\"200\" />\n",
    "\n",
    "Легко скачать для установки можно с <a href=\"https://code.visualstudio.com\" target=\"_blank\">официального сайта</a>\n"
   ]
  },
  {
   "cell_type": "markdown",
   "metadata": {},
   "source": [
    "### Расширения\n"
   ]
  },
  {
   "cell_type": "markdown",
   "metadata": {},
   "source": [
    "Для работы нужно установить два расширения (extensions):\n",
    "\n",
    "- Python\n",
    "- Jupyter\n"
   ]
  },
  {
   "cell_type": "markdown",
   "metadata": {},
   "source": [
    "## Jupyer Notebook\n"
   ]
  },
  {
   "cell_type": "markdown",
   "metadata": {},
   "source": [
    "<strong>Jupyter Notebook</strong> - это интерактивная среда для создания и обмена документами, содержащими код, текст, изображения и другие элементы. Он позволяет создавать и выполнять код в отдельных ячейках, что делает процесс разработки и исследования данных более интерактивным и удобным. Jupyter Notebook поддерживает множество языков программирования, включая Python, R, Julia и другие.\n",
    "\n",
    "<img src=\"https://upload.wikimedia.org/wikipedia/commons/thumb/3/38/Jupyter_logo.svg/1200px-Jupyter_logo.svg.png\" width=\"200\" height=\"200\" />\n"
   ]
  },
  {
   "cell_type": "markdown",
   "metadata": {},
   "source": [
    "## Начало работы\n"
   ]
  },
  {
   "cell_type": "markdown",
   "metadata": {},
   "source": [
    "### Создание виртуальной среды (опционально)\n"
   ]
  },
  {
   "cell_type": "markdown",
   "metadata": {},
   "source": [
    "Создаем виртуальное окружение, выполнив команду venv:\n"
   ]
  },
  {
   "cell_type": "code",
   "execution_count": null,
   "metadata": {},
   "outputs": [],
   "source": [
    "#python3 -m venv myenv"
   ]
  },
  {
   "cell_type": "markdown",
   "metadata": {},
   "source": [
    "После создания виртуальной среды ее можно «активировать»\n"
   ]
  },
  {
   "cell_type": "markdown",
   "metadata": {},
   "source": [
    "для Linux (и также в MacOS)\n"
   ]
  },
  {
   "cell_type": "code",
   "execution_count": null,
   "metadata": {},
   "outputs": [],
   "source": [
    "#source myenv/bin/activate"
   ]
  },
  {
   "cell_type": "markdown",
   "metadata": {},
   "source": [
    "для Windows\n"
   ]
  },
  {
   "cell_type": "code",
   "execution_count": null,
   "metadata": {},
   "outputs": [],
   "source": [
    "#venv\\Scripts\\activate.bat"
   ]
  },
  {
   "cell_type": "markdown",
   "metadata": {},
   "source": [
    "### Первый Jupyter Notebook\n"
   ]
  },
  {
   "cell_type": "markdown",
   "metadata": {},
   "source": [
    "Создаем файл с расширением .ipynb\n"
   ]
  }
 ],
 "metadata": {
  "language_info": {
   "name": "python"
  }
 },
 "nbformat": 4,
 "nbformat_minor": 2
}
