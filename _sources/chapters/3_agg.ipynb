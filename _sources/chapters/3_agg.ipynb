{
 "cells": [
  {
   "cell_type": "markdown",
   "metadata": {},
   "source": [
    "# III. Агрегирование данных\n"
   ]
  },
  {
   "cell_type": "markdown",
   "metadata": {},
   "source": [
    "Мы поговорим про **агрегирование данных**, которое помогает обощать информацию, получать сводную статистику и наглядно это визуализировать.\n",
    "\n",
    "Один из наиболее распространенных случаев - группировка точек по полигонам. Этот метод применяется для изучения распределения объектов по территории, выявления закономерностей и наглядной визуализации пространственной информации.\n",
    "\n",
    "Процесс включает в себя определение того, какие точки находятся внутри полигонов, а также расчет статистики по выбранным атрибутам этих точек для каждого полигона.\n",
    "\n",
    "В этом разделе мы посмотрим, как можно агрегировать точечные данные по единицам административно-территориального деления (АТД) и по ячейкам регулярной сетки, которую научимся создавать самостоятельно и с помощью библиотеки [h3](https://uber.github.io/h3-py/intro.html) от Uber\n"
   ]
  },
  {
   "cell_type": "markdown",
   "metadata": {},
   "source": [
    "**Импортируем библиотеки**\n"
   ]
  },
  {
   "cell_type": "code",
   "execution_count": null,
   "metadata": {},
   "outputs": [],
   "source": [
    "import pandas as pd\n",
    "import geopandas as gpd\n",
    "import matplotlib.pyplot as plt\n",
    "from shapely.geometry import Polygon"
   ]
  },
  {
   "cell_type": "markdown",
   "metadata": {},
   "source": [
    "## 3.1 Агрегирование по АТД\n"
   ]
  },
  {
   "cell_type": "markdown",
   "metadata": {},
   "source": [
    "Давайте посчитаем количество театров в районах Санкт-Петербурга!\n",
    "\n",
    "Для этого **прочитаем данные** с районами и театрами:\n"
   ]
  },
  {
   "cell_type": "code",
   "execution_count": null,
   "metadata": {},
   "outputs": [],
   "source": [
    "admin_district = gpd.read_file('data/spb_admin.gpkg', layer=\"district\")\n",
    "theaters = gpd.read_file('data/spb_theaters.geojson')"
   ]
  },
  {
   "cell_type": "markdown",
   "metadata": {},
   "source": [
    "**Визуализируем** оба набора данных на карте\n"
   ]
  },
  {
   "cell_type": "code",
   "execution_count": null,
   "metadata": {},
   "outputs": [],
   "source": [
    "# создаем карту с районами города\n",
    "ax = admin_district.plot(color='lightblue', edgecolor='gray', figsize=(8, 8))\n",
    "\n",
    "# отображаем театры на этой же карте\n",
    "theaters.plot(ax=ax, color='darkblue', markersize=5)\n",
    "\n",
    "# добавляем легенду\n",
    "plt.legend(['Theaters'])\n",
    "\n",
    "# смотрим на результат\n",
    "plt.show()"
   ]
  },
  {
   "cell_type": "markdown",
   "metadata": {},
   "source": [
    "**Объединим данные** о театрах (theaters) с данными об административных районах (admin*district) с использованием пространственного предиката 'within' (внутри). *Для инструмента spatial join (sjoin) очень важно, чтобы объединяемые данные находились в одной системе координат\\*\n"
   ]
  },
  {
   "cell_type": "code",
   "execution_count": null,
   "metadata": {},
   "outputs": [],
   "source": [
    "theaters_in_district = gpd.sjoin(theaters, admin_district, predicate='within')"
   ]
  },
  {
   "cell_type": "markdown",
   "metadata": {},
   "source": [
    "**Группируем театры по районам** и посчитаем их количество в каждом\n"
   ]
  },
  {
   "cell_type": "code",
   "execution_count": null,
   "metadata": {},
   "outputs": [],
   "source": [
    "theaters_count = theaters_in_district.groupby('NAME').size().reset_index(name='theater_count')"
   ]
  },
  {
   "cell_type": "markdown",
   "metadata": {},
   "source": [
    "**Объединяем количество театров по районам и набор данных с границами районов** и смотрим на результат!\n"
   ]
  },
  {
   "cell_type": "code",
   "execution_count": null,
   "metadata": {},
   "outputs": [],
   "source": [
    "admin_district_with_count = admin_district.merge(theaters_count, on='NAME', how='left')\n",
    "\n",
    "admin_district_with_count.head()"
   ]
  },
  {
   "cell_type": "markdown",
   "metadata": {},
   "source": [
    "Мы получили количество театров в каждом районе Санкт-Петербурга!\n"
   ]
  },
  {
   "cell_type": "markdown",
   "metadata": {},
   "source": [
    "Давайте **посчитаем количество театров на 10 тысяч человек** и отобразим это на карте\n"
   ]
  },
  {
   "cell_type": "code",
   "execution_count": null,
   "metadata": {},
   "outputs": [],
   "source": [
    "# считаем количество театров на 10000 человек\n",
    "admin_district_with_count.eval('theaters_per_10000 = theater_count / (Popul/10000)', inplace=True)\n",
    "\n",
    "# создаем карту с районами города, цвет которых зависит от рассчитанного показателя\n",
    "ax = admin_district_with_count.plot(column='theaters_per_10000', cmap='BuPu', linewidth=0.8, edgecolor='0.8', legend=True)\n",
    "\n",
    "# добавляем на карту районы, где нет театров\n",
    "admin_district_with_count[admin_district_with_count['theaters_per_10000'].isna()].plot(color=\"lightgray\", ax=ax)\n",
    "\n",
    "# добавляем название\n",
    "ax.set_title('Number of Theaters per 10000 Residents')\n",
    "\n",
    "# скрываем координатные оси\n",
    "ax.axis('off')\n",
    "\n",
    "# смотрим на результат\n",
    "plt.show()\n"
   ]
  },
  {
   "cell_type": "markdown",
   "metadata": {},
   "source": [
    "Наверное, редко считают такую странную статистику по театрам в Петербурге. Но почему бы нет?!)\n"
   ]
  },
  {
   "cell_type": "markdown",
   "metadata": {},
   "source": [
    "## 3.2 Агрегирование по ячейкам регулярной сетки\n"
   ]
  },
  {
   "cell_type": "markdown",
   "metadata": {},
   "source": [
    "Регулярная сетка (grid / fishnet) помогает разбивать географическую область на равные ячейки. Этот метод обеспечивает структурированный и однородный способ дробления пространства, что позволяет равномерно агрегировать информацию без привязки к иным границам.\n"
   ]
  },
  {
   "cell_type": "markdown",
   "metadata": {},
   "source": [
    "При создании ячеек регулярной сетки важно учитывать следующее:\n",
    "\n",
    "1. **Размер ячеек:** Важно обеспечить достаточное разрешение для анализа данных, но при этом избегать излишнего дробления территории.\n",
    "\n",
    "2. **Охват:** Убедитесь, что сетка покрывает всю интересующую вас область. Можно вычислить этот параметр на основе других наборов данных.\n",
    "\n",
    "3. **Система координат:** При создании ячеек регулярной сетки важно учитывать используемую систему координат. Это поможет определить единицы измерения при расчете размера ячеек и избежать искажений формы.\n"
   ]
  },
  {
   "cell_type": "markdown",
   "metadata": {},
   "source": [
    "### 3.2.1 Квадратные ячейки\n"
   ]
  },
  {
   "cell_type": "markdown",
   "metadata": {},
   "source": [
    "Начнем с **определения системы координат** и **пространственного охвата**. И то, и другое будет основано на слое c районами Санкт-Петербурга, чтобы покрыть ячейками весь город\n"
   ]
  },
  {
   "cell_type": "markdown",
   "metadata": {},
   "source": [
    "**Проверяем систему координат**\n"
   ]
  },
  {
   "cell_type": "code",
   "execution_count": null,
   "metadata": {},
   "outputs": [],
   "source": [
    "print(admin_district.crs.name)"
   ]
  },
  {
   "cell_type": "markdown",
   "metadata": {},
   "source": [
    "Географическая система координат! Для удобства вычисления размера сетки и отсутствия искажений, нам нужно **перепроецировать данные в UTM**\n"
   ]
  },
  {
   "cell_type": "code",
   "execution_count": null,
   "metadata": {},
   "outputs": [],
   "source": [
    "#вычисляем нужную UTM зону\n",
    "utm = admin_district.estimate_utm_crs()\n",
    "\n",
    "#перепроецируем в нее данные\n",
    "admin_district_utm = admin_district.to_crs(utm)\n"
   ]
  },
  {
   "cell_type": "markdown",
   "metadata": {},
   "source": [
    "**Определяем экстент** (пространственный охват) нашего набора данных\n"
   ]
  },
  {
   "cell_type": "code",
   "execution_count": null,
   "metadata": {},
   "outputs": [],
   "source": [
    "#определяем границы\n",
    "total_bounds = admin_district_utm.total_bounds\n",
    "\n",
    "#записываем минимальные и максимальные значения для долготы и широты в отдельные переменные\n",
    "minX, minY, maxX, maxY = total_bounds"
   ]
  },
  {
   "cell_type": "markdown",
   "metadata": {},
   "source": [
    "**Выберем размер ячейки** (в метрах)\n"
   ]
  },
  {
   "cell_type": "code",
   "execution_count": null,
   "metadata": {},
   "outputs": [],
   "source": [
    "square_size = 1000"
   ]
  },
  {
   "cell_type": "markdown",
   "metadata": {},
   "source": [
    "**Создадим регулярную сетку ячеек** в рамках заданного экстента\n"
   ]
  },
  {
   "cell_type": "code",
   "execution_count": null,
   "metadata": {},
   "outputs": [],
   "source": [
    "# создаем пустой список grid_cells для хранения ячеек сетки\n",
    "grid_cells = []\n",
    "\n",
    "# устанавливаем начальные значения переменных x и y равными минимальным значениям долготы и широты соответственно\n",
    "x, y = (minX, minY)\n",
    "\n",
    "# создаем пустой массив geom_array для хранения геометрий полигонов\n",
    "geom_array = []\n",
    "\n",
    "# внешний цикл, который продолжается до тех пор, пока значение y не достигнет или не превысит максимальное значение широты\n",
    "while y <= maxY:\n",
    "        # внутренний цикл, который продолжается до тех пор, пока значение x не достигнет или не превысит максимальное значение долготы\n",
    "        while x <= maxX:\n",
    "            # создаем полигон с координатами вершин, представляющими одну ячейку сетки, и добавляем его в массив geom_array\n",
    "            geom = Polygon([(x,y), (x, y+square_size), (x+square_size, y+square_size), (x+square_size, y), (x, y)])\n",
    "            geom_array.append(geom)\n",
    "            # увеличиваем значение x на размер стороны квадрата сетки для перехода к следующей ячейке по горизонтали\n",
    "            x += square_size\n",
    "        # сбрасываем значение x до минимального значения долготы для начала новой строки ячеек\n",
    "        x = minX\n",
    "        # увеличиваем значение y на размер стороны квадрата сетки для перехода к следующей строке ячеек\n",
    "        y += square_size\n",
    "\n",
    "\n",
    "# создаем GeoDataFrame fishnet из массива геометрий geom_array и назначаем ему столбец 'id' со значениями индексов\n",
    "fishnet = gpd.GeoDataFrame(geom_array, columns=['geometry']).set_crs('EPSG:32636')\n",
    "fishnet['id'] = fishnet.index"
   ]
  },
  {
   "cell_type": "markdown",
   "metadata": {},
   "source": [
    "**Посмотрим на результат**\n"
   ]
  },
  {
   "cell_type": "code",
   "execution_count": null,
   "metadata": {},
   "outputs": [],
   "source": [
    "# импортируем библиотеку contextily\n",
    "import contextily as ctx\n",
    "\n",
    "# преобразуем координаты в EPSG:3857\n",
    "fishnet_3857 = fishnet.to_crs('EPSG:3857')\n",
    "\n",
    "# создаем карту\n",
    "ax = fishnet_3857.plot(alpha=0.1, edgecolor='k')\n",
    "\n",
    "# добавляем базовую карту CartoDB из библиотеки contextily\n",
    "ctx.add_basemap(ax, source=ctx.providers.CartoDB.Positron)\n",
    "\n",
    "# посмотрим на карту\n",
    "plt.show()\n",
    "\n"
   ]
  },
  {
   "cell_type": "markdown",
   "metadata": {},
   "source": [
    "**Создадим функцию** для построения сетки регулярных ячеек на основе набора данных и размера\n"
   ]
  },
  {
   "cell_type": "code",
   "execution_count": null,
   "metadata": {},
   "outputs": [],
   "source": [
    "def create_regular_grid(gdf, square_size):\n",
    "\n",
    "    #вычислеяем utm зоны для набора данных \n",
    "    utm_zone = gdf.estimate_utm_crs()\n",
    "    #перепроецируем набор данных\n",
    "    gdf = gdf.to_crs(utm_zone)\n",
    "    minX, minY, maxX, maxY = gdf.total_bounds\n",
    "    \n",
    "    grid_cells = []\n",
    "    x, y = minX, minY\n",
    "\n",
    "    while y <= maxY:\n",
    "        while x <= maxX:\n",
    "            geom = Polygon([(x, y), (x, y + square_size), (x + square_size, y + square_size), (x + square_size, y), (x, y)])\n",
    "            grid_cells.append(geom)\n",
    "            x += square_size\n",
    "        x = minX\n",
    "        y += square_size\n",
    "\n",
    "    fishnet = gpd.GeoDataFrame(geometry=grid_cells, crs=utm_zone)\n",
    "    return fishnet"
   ]
  },
  {
   "cell_type": "markdown",
   "metadata": {},
   "source": [
    "Проверим, как работает функция на примере набора данных theaters\n"
   ]
  },
  {
   "cell_type": "code",
   "execution_count": null,
   "metadata": {},
   "outputs": [],
   "source": [
    "grid = create_regular_grid(theaters, 1000)\n",
    "\n",
    "# преобразуем координаты в EPSG:3857\n",
    "grid_3857 = grid.to_crs('EPSG:3857')\n",
    "\n",
    "# создаем карту\n",
    "ax = grid_3857.plot(alpha=0.1, edgecolor='k')\n",
    "\n",
    "# добавляем базовую карту CartoDB из библиотеки contextily\n",
    "ctx.add_basemap(ax, source=ctx.providers.CartoDB.Positron)\n",
    "\n",
    "# посмотрим на карту\n",
    "plt.show()"
   ]
  },
  {
   "cell_type": "markdown",
   "metadata": {},
   "source": [
    "Супер! Теперь путь к созданию регулярной сетки с квадратными ячейками стал на 15 строк короче\n"
   ]
  },
  {
   "cell_type": "markdown",
   "metadata": {},
   "source": [
    "#### Сводная статистика на основе точек в полигонах - МКД\n"
   ]
  },
  {
   "cell_type": "markdown",
   "metadata": {},
   "source": [
    "<p style=\"color:#00a6a6; font-style:italic\"> \n",
    "Данные о многоквартирных домах (МКД) – один из прекрасных источников городских данных, из которого мы можем узнать не только различную информацию о состоянии жилого фонда, но и оценить численность населения в разных районах города\n",
    "</p>\n",
    "\n",
    "<p style=\"color:#00a6a6; font-style:italic\"> \n",
    "В России есть <a href=\"https://аис.фрт.рф/opendata\">Открытые данные Фонда развития территорий (реформа ЖКХ)</a>, где можно найти реестр всeх зарегистрированных многоквартирных домов (МКД) России. Для каждого МКД есть подробная информация, которая включает данные об адресе дома, жилой и нежилой площадях, этажности, годе постройки, наличии лифта и пр.\n",
    "</p>\n",
    "\n",
    "<p style=\"color:#00a6a6; font-style:italic\"> \n",
    "Также данные можно искать на порталах открытых данных разных регионов. Так, для этого упражнения, мы взяли данные с платформы <a href='http://data.gov.spb.ru/opendata/'>Открытых данных Санкт‑Петербурга</a>\n",
    "</p>\n"
   ]
  },
  {
   "cell_type": "markdown",
   "metadata": {},
   "source": [
    "**Прочитаем данные из сsv**, создадим набор пространственных данных и посмотрим него\n"
   ]
  },
  {
   "cell_type": "code",
   "execution_count": null,
   "metadata": {},
   "outputs": [],
   "source": [
    "#Читаем csv\n",
    "spb_mkd = pd.read_csv('data/spb_mkd.csv')\n",
    "\n",
    "# Разделяем координаты в разные столбцы\n",
    "spb_mkd[['latitude', 'longitude']] = spb_mkd['coordinates'].str.split(',', expand=True)\n",
    "spb_mkd.drop(columns=[\"coordinates\"], inplace = True)\n",
    "\n",
    "# Создаем GeoDataFrame\n",
    "spb_mkd_gdf = gpd.GeoDataFrame(spb_mkd, geometry=gpd.points_from_xy(spb_mkd['longitude'], spb_mkd['latitude']), crs=4326)\n",
    "\n",
    "# Посмотрим на информацию об атрибутах \n",
    "print(spb_mkd_gdf.info())"
   ]
  },
  {
   "cell_type": "markdown",
   "metadata": {},
   "source": [
    "Очень много всего! Для разгадывания названий столбцов, нам бы пригодилась документация. Но сегодня нам понадобится только одно поле - data_residents с информацией о количестве проживающих в домах\n"
   ]
  },
  {
   "cell_type": "markdown",
   "metadata": {},
   "source": [
    "**Посчитаем количество жителей в по ячейкам регулярной сетки** и таким образом увидим общие закономерности размещения населения в городе\n",
    "\n",
    "**Объединим данные** МКД (theaters) с ячейками регулярной сетки (fishnet) с использованием пространственного предиката 'within' (внутри)\n"
   ]
  },
  {
   "cell_type": "code",
   "execution_count": null,
   "metadata": {},
   "outputs": [],
   "source": [
    "mkd_in_grid = gpd.sjoin(spb_mkd_gdf, fishnet, predicate='within')"
   ]
  },
  {
   "cell_type": "markdown",
   "metadata": {},
   "source": [
    "Ошибка! Данные должны быть в одной системе координат. Перепроецируем набор данных с МКД и попробуем снова\n"
   ]
  },
  {
   "cell_type": "code",
   "execution_count": null,
   "metadata": {},
   "outputs": [],
   "source": [
    "spb_mkd_gdf = spb_mkd_gdf.to_crs(spb_mkd_gdf.estimate_utm_crs())\n",
    "\n",
    "mkd_in_grid = gpd.sjoin(spb_mkd_gdf, fishnet, predicate='within')"
   ]
  },
  {
   "cell_type": "markdown",
   "metadata": {},
   "source": [
    "**Группируем МКД по ячейкам** и посчитаем сумму населения в каждой\n"
   ]
  },
  {
   "cell_type": "code",
   "execution_count": null,
   "metadata": {},
   "outputs": [],
   "source": [
    "population_count = mkd_in_grid.groupby('id')['data_residents'].sum().reset_index()"
   ]
  },
  {
   "cell_type": "markdown",
   "metadata": {},
   "source": [
    "**Объединяем получившийся DataFrame со сводной статистикой и ячейки сетки** и смотрим на результат!\n"
   ]
  },
  {
   "cell_type": "code",
   "execution_count": null,
   "metadata": {},
   "outputs": [],
   "source": [
    "grid_with_population = fishnet.merge(population_count, on='id', how='left')\n",
    "\n",
    "grid_with_population.explore(column=\"data_residents\", tiles='cartodbpositron')"
   ]
  },
  {
   "cell_type": "markdown",
   "metadata": {},
   "source": [
    "**Посчитаем плотность населения** (чел./кв.км) и отобразим на карте\n"
   ]
  },
  {
   "cell_type": "code",
   "execution_count": null,
   "metadata": {},
   "outputs": [],
   "source": [
    "# вычисляем плотность населения: количество человек на 1 квадратный километр\n",
    "grid_with_population.eval('pop_density = data_residents / (geometry.area / 10**6)', inplace=True)\n",
    "\n",
    "ax = grid_with_population.plot(column='pop_density', cmap='BuPu', linewidth=0.8, edgecolor='0.8', legend=True)\n",
    "\n",
    "# добавляем название\n",
    "ax.set_title('Population Density, ppl/sq.km')\n",
    "\n",
    "# скрываем координатные оси\n",
    "ax.axis('off')\n",
    "\n",
    "# смотрим на результат\n",
    "plt.show()"
   ]
  },
  {
   "cell_type": "markdown",
   "metadata": {},
   "source": [
    "### 3.2.2 Шестиугольные ячейки (H3 library)\n"
   ]
  },
  {
   "cell_type": "markdown",
   "metadata": {},
   "source": [
    "Библиотека H3 для Python - инструмент для создания регулярных шестиугольных сеток. Она разработана компанией Uber. Разрешение ячеек определяет их размер и уровень детализации. Подробнее о размере ячеек на разных уровнях разрешения можно почитать [тут](https://h3geo.org/docs/core-library/restable/). У H3 также есть удобные методы встроенные методы для агрегирования и визуализации данных. д\n"
   ]
  },
  {
   "cell_type": "markdown",
   "metadata": {},
   "source": [
    "Для этой задачи мы с вами посмотрим на театры еще одного прекрасного города - Вены\n",
    "\n",
    "**Выгрузим данные о музеях** из OSM\n"
   ]
  },
  {
   "cell_type": "code",
   "execution_count": null,
   "metadata": {},
   "outputs": [],
   "source": [
    "import osmnx as ox\n",
    "\n",
    "# выгрузим музеи Вены из ОСМ\n",
    "museums_osm = ox.geometries.geometries_from_place(\"Vienna, Austria\", tags={'tourism': 'museum'})\n",
    "\n",
    "# оставим только точки\n",
    "museums_osm = museums_osm.loc[museums_osm.geom_type.isin(['Point'])]\n",
    "\n",
    "# посмотрим на них на карте\n",
    "museums_osm.explore(tiles='cartodbpositron')\n"
   ]
  },
  {
   "cell_type": "markdown",
   "metadata": {},
   "source": [
    "**Создадим шестиугольную сетку с помощью h3** и посчитаем количество музеев в ячейках\n"
   ]
  },
  {
   "cell_type": "code",
   "execution_count": null,
   "metadata": {},
   "outputs": [],
   "source": [
    "import h3\n",
    "\n",
    "# устанавливаем разрешение H3 (8)\n",
    "resolution = 8 \n",
    "\n",
    "#преобразуем координаты музеев в шестиугольные ячейки H3 заданного разрешения\n",
    "hexagons = [h3.geo_to_h3(lat, lon, resolution) for lat, lon in zip(museums_osm.geometry.x, museums_osm.geometry.y)]\n",
    "\n",
    "# добавляем идентификаторы ячеек H3 к исходным данным о музеях\n",
    "museums_osm['hex_id'] = hexagons\n",
    "\n",
    "# подсчитываем количество музеев в каждой ячейке H3\n",
    "museums_per_hex = museums_osm['hex_id'].value_counts().reset_index()\n",
    "museums_per_hex.columns = ['hex_id', 'museums_count']\n",
    "\n",
    "# получаем геометрию шестиугольных ячеек H3 на основе их идентификаторов\n",
    "hexagon_geoms = [h3.h3_to_geo_boundary(hex_id) for hex_id in museums_per_hex['hex_id']]\n",
    "hexagon_geoms = [Polygon(coords) for coords in hexagon_geoms]\n",
    "\n",
    "# cоздаем GeoDataFrame с геометрией шестиугольных ячеек и данными о количестве музеев в каждой ячейке\n",
    "hexagon_gdf = gpd.GeoDataFrame(geometry=gpd.GeoSeries(hexagon_geoms), data=museums_per_hex, crs=\"4326\")\n",
    "\n",
    "# смотрим, что получилось\n",
    "hexagon_gdf.explore(column='museums_count', tiles='cartodbpositron')\n"
   ]
  },
  {
   "cell_type": "markdown",
   "metadata": {},
   "source": [
    "## Итоги\n"
   ]
  },
  {
   "cell_type": "markdown",
   "metadata": {},
   "source": [
    "Мы коротко посмотрели, **как агрегировать данные по единицам АТД и по ячейкам регулярной сетки**. Эта задача очень часто встречается в пространственной аналитике, так как помогает получить общую информацию о размещении объектов в пространстве.\n",
    "\n",
    "Также познакомились с некоторыми новыми библиотеками: **contextily** для добавления картографических подложек на статичные карты и **h3** - для геоиндексации и агрегирования данных на шестиугольные ячейки регулярной сетки\n"
   ]
  }
 ],
 "metadata": {
  "kernelspec": {
   "display_name": "Python 3",
   "language": "python",
   "name": "python3"
  },
  "language_info": {
   "codemirror_mode": {
    "name": "ipython",
    "version": 3
   },
   "file_extension": ".py",
   "mimetype": "text/x-python",
   "name": "python",
   "nbconvert_exporter": "python",
   "pygments_lexer": "ipython3",
   "version": "3.10.6"
  }
 },
 "nbformat": 4,
 "nbformat_minor": 2
}
